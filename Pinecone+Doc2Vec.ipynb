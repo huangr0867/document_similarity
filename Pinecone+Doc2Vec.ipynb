{
 "cells": [
  {
   "cell_type": "code",
   "execution_count": 1,
   "id": "d7ed5cb2",
   "metadata": {},
   "outputs": [],
   "source": [
    "!pip install -qU pinecone-client"
   ]
  },
  {
   "cell_type": "code",
   "execution_count": 2,
   "id": "261e41e4",
   "metadata": {},
   "outputs": [
    {
     "name": "stdout",
     "output_type": "stream",
     "text": [
      "Requirement already satisfied: gensim in /Users/ryanhuang/lib/python3.9/site-packages (4.3.2)\n",
      "Requirement already satisfied: smart-open>=1.8.1 in /Users/ryanhuang/lib/python3.9/site-packages (from gensim) (6.4.0)\n",
      "Requirement already satisfied: numpy>=1.18.5 in /Users/ryanhuang/lib/python3.9/site-packages (from gensim) (1.23.5)\n",
      "Requirement already satisfied: scipy>=1.7.0 in /Users/ryanhuang/lib/python3.9/site-packages (from gensim) (1.11.1)\n",
      "\u001b[33mWARNING: You are using pip version 22.0.4; however, version 23.3.1 is available.\n",
      "You should consider upgrading via the '/Users/ryanhuang/bin/python3 -m pip install --upgrade pip' command.\u001b[0m\u001b[33m\n",
      "\u001b[0mNote: you may need to restart the kernel to use updated packages.\n"
     ]
    }
   ],
   "source": [
    "pip install -U gensim"
   ]
  },
  {
   "cell_type": "code",
   "execution_count": 3,
   "id": "b6118399",
   "metadata": {},
   "outputs": [
    {
     "name": "stdout",
     "output_type": "stream",
     "text": [
      "Requirement already satisfied: nltk in /Users/ryanhuang/lib/python3.9/site-packages (3.8.1)\n",
      "Requirement already satisfied: click in /Users/ryanhuang/lib/python3.9/site-packages (from nltk) (8.1.7)\n",
      "Requirement already satisfied: tqdm in /Users/ryanhuang/lib/python3.9/site-packages (from nltk) (4.65.0)\n",
      "Requirement already satisfied: regex>=2021.8.3 in /Users/ryanhuang/lib/python3.9/site-packages (from nltk) (2023.10.3)\n",
      "Requirement already satisfied: joblib in /Users/ryanhuang/lib/python3.9/site-packages (from nltk) (1.3.1)\n",
      "\u001b[33mWARNING: You are using pip version 22.0.4; however, version 23.3.1 is available.\n",
      "You should consider upgrading via the '/Users/ryanhuang/bin/python3 -m pip install --upgrade pip' command.\u001b[0m\u001b[33m\n",
      "\u001b[0mNote: you may need to restart the kernel to use updated packages.\n"
     ]
    }
   ],
   "source": [
    "pip install nltk"
   ]
  },
  {
   "cell_type": "code",
   "execution_count": 4,
   "id": "0d190814",
   "metadata": {},
   "outputs": [
    {
     "name": "stderr",
     "output_type": "stream",
     "text": [
      "/Users/ryanhuang/lib/python3.9/site-packages/pinecone/index.py:4: TqdmExperimentalWarning: Using `tqdm.autonotebook.tqdm` in notebook mode. Use `tqdm.tqdm` instead to force console mode (e.g. in jupyter console)\n",
      "  from tqdm.autonotebook import tqdm\n"
     ]
    }
   ],
   "source": [
    "import pinecone\n",
    "\n",
    "from gensim.models.doc2vec import Doc2Vec,\\\n",
    "    TaggedDocument\n",
    "from nltk.tokenize import word_tokenize"
   ]
  },
  {
   "cell_type": "code",
   "execution_count": 5,
   "id": "4bdbfc78",
   "metadata": {},
   "outputs": [
    {
     "name": "stderr",
     "output_type": "stream",
     "text": [
      "[nltk_data] Downloading package punkt to /Users/ryanhuang/nltk_data...\n",
      "[nltk_data]   Package punkt is already up-to-date!\n"
     ]
    },
    {
     "data": {
      "text/plain": [
       "True"
      ]
     },
     "execution_count": 5,
     "metadata": {},
     "output_type": "execute_result"
    }
   ],
   "source": [
    "import nltk\n",
    "nltk.download('punkt')"
   ]
  },
  {
   "cell_type": "code",
   "execution_count": 7,
   "id": "d029ad80",
   "metadata": {},
   "outputs": [],
   "source": [
    "mock = [\"In recent decades, mass spectrometry-based lipidomics has provided a fertile environment for scientific investigations of biochemical and mechanistic processes in biological systems. Notably, this approach has been used to characterize physiological and pathological processes relevant to the central nervous system by identifying changes in the sphingolipid content in the brain, cerebral spinal fluid, and blood plasma. However, despite a preponderance of studies identifying correlations between specific lipids and disease progression, this powerful resource has not yet substantively translated into clinically useful diagnostic assays. Part of this gap may be explained by insufficient depth of the lipidomic profiles in many studies, by lab-to-lab inconsistencies in methodology, and a lack of absolute quantification.\",\n",
    "        \"Bromhidrosis is characterized as a chronic condition related to malodor from the skin. The underlying etiology is from bacterial decompositions of glandular secretion products. However, specific pathways and metabolites for the disease are yet to be investigated. Here, twenty-eight metabolites, including fifteen major sweat constituents and thirteen compounds emitted from malodor-producing skin bacteria, were subjected to the metabometric analysis using Metaboanalyst. Different pathways in the butanoate metabolism revealed that acetolactate synthase (ALS) in skin Staphylococcus epidermidis (S. epidermidis) bacteria are catalyzing pyruvate to several malodor compounds like diacetyl. In the docking studies of the sulfonylurea-ALS interaction, five selected sulfonylureas, which originally were developed for the treatment of diabetes mellitus type 2, showed different binding free energies (ΔG) from chlorimuron ethyl-a well-known ALS sulfonylurea inhibitor. Amongst five sulfonylureas, gliquidone and glisoxepide were found to have free energy differences that were lower than or equal to chlorimuron ethyl, revealing their high affinities to ALS. In the future, further investigations of gliquidone and glisoxepide against ALS in skin bacteria would be crucial in repurposing these two sulfonylureas as new anti-bromhidrosis drugs.\",\n",
    "        \"Endogenous alcohol produced by the gut microbiome is transported via the bloodstream to the liver for detoxification. Gut dysbiosis can result in chronic excess alcohol production that contributes to the development of hepatic steatosis. The aim of this study was to examine whether linolenic acid can manipulate the production of harmful alcohol and beneficial short-chain fatty acids (SCFAs) in the metabolome of commensal Klebsiella pneumoniae (K. pneumoniae) and the virulent K. pneumoniae K1 serotype. Glucose fermentation by the K. pneumoniae K1 serotype yielded increased production of alcohol and decreased SCFAs (especially acetate and propionate) compared to those of commensal K. pneumoniae. However, the use of linolenic acid instead of glucose significantly reduced alcohol and increased SCFAs in the fermentation media of the K. pneumoniae K1 serotype. The work highlights the value of shaping the microbial metabolome using linolenic acid, which can potentially regulate the gut–liver axis for the prevention and treatment of alcohol-induced liver diseases.\",\n",
    "        \"apples in a tree\"]"
   ]
  },
  {
   "cell_type": "code",
   "execution_count": 8,
   "id": "8b83b497",
   "metadata": {},
   "outputs": [],
   "source": [
    "tagged_data = [TaggedDocument(words=word_tokenize(doc.lower()),\n",
    "                              tags=[str(i)]) for i, doc in enumerate(mock)]"
   ]
  },
  {
   "cell_type": "code",
   "execution_count": 9,
   "id": "b07c81f8",
   "metadata": {},
   "outputs": [
    {
     "name": "stdout",
     "output_type": "stream",
     "text": [
      "Document 1 : In recent decades, mass spectrometry-based lipidomics has provided a fertile environment for scientific investigations of biochemical and mechanistic processes in biological systems. Notably, this approach has been used to characterize physiological and pathological processes relevant to the central nervous system by identifying changes in the sphingolipid content in the brain, cerebral spinal fluid, and blood plasma. However, despite a preponderance of studies identifying correlations between specific lipids and disease progression, this powerful resource has not yet substantively translated into clinically useful diagnostic assays. Part of this gap may be explained by insufficient depth of the lipidomic profiles in many studies, by lab-to-lab inconsistencies in methodology, and a lack of absolute quantification.\n",
      "Vector: [-0.93333393 -0.34230855  0.7707463   0.13141382  0.30894133 -1.1000896\n",
      " -0.202839    0.12857984 -0.6038056  -0.93047655  0.82741153  0.23699388\n",
      " -0.6341687  -0.8458284   0.24828719  0.47359204  0.8016885  -0.30738458\n",
      " -1.2078321  -0.33218178]\n",
      "\n",
      "Document 2 : Bromhidrosis is characterized as a chronic condition related to malodor from the skin. The underlying etiology is from bacterial decompositions of glandular secretion products. However, specific pathways and metabolites for the disease are yet to be investigated. Here, twenty-eight metabolites, including fifteen major sweat constituents and thirteen compounds emitted from malodor-producing skin bacteria, were subjected to the metabometric analysis using Metaboanalyst. Different pathways in the butanoate metabolism revealed that acetolactate synthase (ALS) in skin Staphylococcus epidermidis (S. epidermidis) bacteria are catalyzing pyruvate to several malodor compounds like diacetyl. In the docking studies of the sulfonylurea-ALS interaction, five selected sulfonylureas, which originally were developed for the treatment of diabetes mellitus type 2, showed different binding free energies (ΔG) from chlorimuron ethyl-a well-known ALS sulfonylurea inhibitor. Amongst five sulfonylureas, gliquidone and glisoxepide were found to have free energy differences that were lower than or equal to chlorimuron ethyl, revealing their high affinities to ALS. In the future, further investigations of gliquidone and glisoxepide against ALS in skin bacteria would be crucial in repurposing these two sulfonylureas as new anti-bromhidrosis drugs.\n",
      "Vector: [-2.1614077  -0.7704825   1.8353281   0.30098352  0.7222182  -2.6474888\n",
      " -0.48068327  0.2014474  -1.3530838  -2.2042081   1.9599698   0.50760376\n",
      " -1.5215448  -1.9964391   0.5551837   1.0953174   1.8665534  -0.8268904\n",
      " -2.7325525  -0.7671686 ]\n",
      "\n",
      "Document 3 : Endogenous alcohol produced by the gut microbiome is transported via the bloodstream to the liver for detoxification. Gut dysbiosis can result in chronic excess alcohol production that contributes to the development of hepatic steatosis. The aim of this study was to examine whether linolenic acid can manipulate the production of harmful alcohol and beneficial short-chain fatty acids (SCFAs) in the metabolome of commensal Klebsiella pneumoniae (K. pneumoniae) and the virulent K. pneumoniae K1 serotype. Glucose fermentation by the K. pneumoniae K1 serotype yielded increased production of alcohol and decreased SCFAs (especially acetate and propionate) compared to those of commensal K. pneumoniae. However, the use of linolenic acid instead of glucose significantly reduced alcohol and increased SCFAs in the fermentation media of the K. pneumoniae K1 serotype. The work highlights the value of shaping the microbial metabolome using linolenic acid, which can potentially regulate the gut–liver axis for the prevention and treatment of alcohol-induced liver diseases.\n",
      "Vector: [-1.6294099  -0.67361945  1.511531    0.19018143  0.56878555 -2.068217\n",
      " -0.37414125  0.17490779 -1.0601412  -1.7162097   1.5312839   0.3399825\n",
      " -1.1162059  -1.5712929   0.37650785  0.8715106   1.479856   -0.6224366\n",
      " -2.2036402  -0.58091736]\n",
      "\n",
      "Document 4 : apples in a tree\n",
      "Vector: [-0.13377015 -0.05506522  0.09954582  0.0285021   0.06032489 -0.152204\n",
      " -0.04418642  0.00496252 -0.096575   -0.12270585  0.12017541  0.04509373\n",
      " -0.09891657 -0.09694483  0.03597502  0.04341066  0.11517926 -0.05652959\n",
      " -0.16439933 -0.04620701]\n",
      "\n"
     ]
    }
   ],
   "source": [
    "model = Doc2Vec(vector_size=20,\n",
    "                min_count=2, epochs=50)\n",
    "model.build_vocab(tagged_data)\n",
    "model.train(tagged_data,\n",
    "            total_examples=model.corpus_count,\n",
    "            epochs=model.epochs)\n",
    " \n",
    "# get the document vectors\n",
    "document_vectors = [model.infer_vector(\n",
    "    word_tokenize(doc.lower())) for doc in mock]\n",
    " \n",
    "embeddings = []\n",
    "#  print the document vectors\n",
    "for i, doc in enumerate(mock):\n",
    "    print(\"Document\", i+1, \":\", doc)\n",
    "    print(\"Vector:\", document_vectors[i])\n",
    "    print()\n",
    "    embeddings.append(document_vectors[i])\n",
    "    "
   ]
  },
  {
   "cell_type": "code",
   "execution_count": 10,
   "id": "b2c559d6",
   "metadata": {},
   "outputs": [],
   "source": [
    "# pinecone.delete_index(\"audio-search\")"
   ]
  },
  {
   "cell_type": "code",
   "execution_count": 12,
   "id": "e1b03c48",
   "metadata": {},
   "outputs": [],
   "source": [
    "# Load Pinecone API key\n",
    "api_key = '5bc96521-faae-4066-9a18-d74060e3ac1d'\n",
    "# Set Pinecone environment. Find next to API key in console\n",
    "env = \"gcp-starter\"\n",
    "\n",
    "# Initialize connection to pinecone\n",
    "pinecone.init(\n",
    "  api_key=api_key,\n",
    "  environment=env\n",
    ")\n",
    "\n",
    "# Index params\n",
    "my_index_name = \"doc-similarity\"\n",
    "vector_dim = len(embeddings)\n",
    "\n",
    "if my_index_name not in pinecone.list_indexes():\n",
    "  # Create the index\n",
    "  pinecone.create_index(name = my_index_name,\n",
    "                      dimension=20,\n",
    "                      metric=\"cosine\", shards=1,\n",
    "                      pod_type='s1.x1')\n",
    "# Connect to the index\n",
    "my_index = pinecone.Index(index_name = my_index_name)"
   ]
  },
  {
   "cell_type": "code",
   "execution_count": 13,
   "id": "08b7efa7",
   "metadata": {},
   "outputs": [
    {
     "data": {
      "text/plain": [
       "{'dimension': 20,\n",
       " 'index_fullness': 4e-05,\n",
       " 'namespaces': {'': {'vector_count': 4}},\n",
       " 'total_vector_count': 4}"
      ]
     },
     "execution_count": 13,
     "metadata": {},
     "output_type": "execute_result"
    }
   ],
   "source": [
    "my_index.describe_index_stats()"
   ]
  },
  {
   "cell_type": "code",
   "execution_count": 14,
   "id": "305a7897",
   "metadata": {},
   "outputs": [
    {
     "data": {
      "text/plain": [
       "{'dimension': 20,\n",
       " 'index_fullness': 4e-05,\n",
       " 'namespaces': {'': {'vector_count': 4}},\n",
       " 'total_vector_count': 4}"
      ]
     },
     "execution_count": 14,
     "metadata": {},
     "output_type": "execute_result"
    }
   ],
   "source": [
    "docIDs = [1, 2, 3, 4]\n",
    "data = list(zip(docIDs, embeddings))\n",
    "# Upload the final data\n",
    "my_index.upsert(vectors = [\n",
    "    (\"A\", embeddings[0].tolist()),\n",
    "    (\"B\", embeddings[1].tolist()),\n",
    "    (\"C\", embeddings[2].tolist()),\n",
    "    (\"D\", embeddings[3].tolist())\n",
    "])\n",
    "\n",
    "# Show information about the vector index\n",
    "my_index.describe_index_stats()"
   ]
  },
  {
   "cell_type": "code",
   "execution_count": 15,
   "id": "dcfbd42f",
   "metadata": {},
   "outputs": [
    {
     "data": {
      "text/plain": [
       "{'matches': [{'id': 'D', 'score': 0.0402525738, 'values': []},\n",
       "             {'id': 'A', 'score': -0.0371759385, 'values': []},\n",
       "             {'id': 'B', 'score': -0.0412869155, 'values': []},\n",
       "             {'id': 'C', 'score': -0.0500218123, 'values': []}],\n",
       " 'namespace': ''}"
      ]
     },
     "execution_count": 15,
     "metadata": {},
     "output_type": "execute_result"
    }
   ],
   "source": [
    "a = \"tree\"\n",
    "query = model.infer_vector(word_tokenize(a.lower()))\n",
    "my_index.query(query.tolist(), top_k=4)"
   ]
  },
  {
   "cell_type": "code",
   "execution_count": null,
   "id": "85dce333",
   "metadata": {},
   "outputs": [],
   "source": []
  }
 ],
 "metadata": {
  "kernelspec": {
   "display_name": "Python 3 (ipykernel)",
   "language": "python",
   "name": "python3"
  },
  "language_info": {
   "codemirror_mode": {
    "name": "ipython",
    "version": 3
   },
   "file_extension": ".py",
   "mimetype": "text/x-python",
   "name": "python",
   "nbconvert_exporter": "python",
   "pygments_lexer": "ipython3",
   "version": "3.9.15"
  }
 },
 "nbformat": 4,
 "nbformat_minor": 5
}
